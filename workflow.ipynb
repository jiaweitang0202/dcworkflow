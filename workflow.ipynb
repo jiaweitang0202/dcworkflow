{
 "cells": [
  {
   "cell_type": "code",
   "execution_count": 1,
   "metadata": {
    "collapsed": false,
    "deletable": true,
    "editable": true
   },
   "outputs": [],
   "source": [
    "from projects import *\n",
    "from services import GoldenRecord"
   ]
  },
  {
   "cell_type": "code",
   "execution_count": 2,
   "metadata": {
    "collapsed": false,
    "deletable": true,
    "editable": true
   },
   "outputs": [],
   "source": [
    "# First, let's create a new project\n",
    "Proj = Project()\n",
    "Proj.newProject('XYZ')"
   ]
  },
  {
   "cell_type": "code",
   "execution_count": 3,
   "metadata": {
    "collapsed": false,
    "deletable": true,
    "editable": true
   },
   "outputs": [
    {
     "name": "stdout",
     "output_type": "stream",
     "text": [
      "save the current project to: ../CivilizerWorkspace/XYZ/XYZ.dot\n",
      "\n"
     ]
    }
   ],
   "source": [
    "Proj.addNode('Aurum1', 'Aurum')\n",
    "Proj.addNode('Tamr1', 'Tamr')\n",
    "Proj.addNode('Transform1', 'DBXFormer')\n",
    "Proj.addNode('Transform2', 'GoldenRecord')\n",
    "Proj.addEdge('Aurum1', 'Tamr1')\n",
    "Proj.addEdge('Aurum1', 'Transform2')\n",
    "Proj.addEdge('Transform1', 'Transform2')\n",
    "Proj.saveProject()"
   ]
  },
  {
   "cell_type": "code",
   "execution_count": 4,
   "metadata": {
    "collapsed": false
   },
   "outputs": [
    {
     "name": "stdout",
     "output_type": "stream",
     "text": [
      "Running Aurum for Data Discovery\n",
      "Running DBXFormer for Data Transformation\n"
     ]
    }
   ],
   "source": [
    "Proj.executeNode('Aurum1')\n",
    "Proj.executeNode('Transform1')"
   ]
  },
  {
   "cell_type": "code",
   "execution_count": 5,
   "metadata": {
    "collapsed": false
   },
   "outputs": [
    {
     "name": "stdout",
     "output_type": "stream",
     "text": [
      "close the current project\n"
     ]
    }
   ],
   "source": [
    "Proj.closeProject()"
   ]
  },
  {
   "cell_type": "code",
   "execution_count": 6,
   "metadata": {
    "collapsed": false,
    "deletable": true,
    "editable": true
   },
   "outputs": [
    {
     "name": "stdout",
     "output_type": "stream",
     "text": [
      "load an existing project from: ../CivilizerWorkspace/XYZ/XYZ.dot\n",
      "\n"
     ]
    }
   ],
   "source": [
    "# We can laod the workflow graph from a file\n",
    "Proj.loadProject('XYZ')"
   ]
  },
  {
   "cell_type": "code",
   "execution_count": null,
   "metadata": {
    "collapsed": false,
    "deletable": true,
    "editable": true
   },
   "outputs": [],
   "source": [
    "# We can see the current workflow\n",
    "# print(Proj.wg.source)\n",
    "Proj.printProject()"
   ]
  },
  {
   "cell_type": "code",
   "execution_count": 7,
   "metadata": {
    "collapsed": false,
    "deletable": true,
    "editable": true
   },
   "outputs": [
    {
     "name": "stdout",
     "output_type": "stream",
     "text": [
      "Name: Transform2\n",
      "input file: /Users/qahtanaa/Documents/WorkFlow/CivilizerWorkspace/XYZ_Transform2.input\n",
      "output file: /Users/qahtanaa/Documents/WorkFlow/CivilizerWorkspace/XYZ_Transform2.output\n",
      "input sources: /Users/qahtanaa/Documents/WorkFlow/CivilizerWorkspace/XYZ_Transform1.output;/Users/qahtanaa/Documents/WorkFlow/CivilizerWorkspace/XYZ_Aurum1.output;\n",
      "==================================\n",
      "Name: Tamr1\n",
      "input file: /Users/qahtanaa/Documents/WorkFlow/CivilizerWorkspace/XYZ_Tamr1.input\n",
      "output file: /Users/qahtanaa/Documents/WorkFlow/CivilizerWorkspace/XYZ_Tamr1.output\n",
      "input sources: /Users/qahtanaa/Documents/WorkFlow/CivilizerWorkspace/XYZ_Aurum1.output;\n",
      "==================================\n",
      "Name: Transform1\n",
      "input file: /Users/qahtanaa/Documents/WorkFlow/CivilizerWorkspace/XYZ_Transform1.input\n",
      "output file: /Users/qahtanaa/Documents/WorkFlow/CivilizerWorkspace/XYZ_Transform1.output\n",
      "input sources: \n",
      "==================================\n",
      "Name: Aurum1\n",
      "input file: /Users/qahtanaa/Documents/WorkFlow/CivilizerWorkspace/XYZ_Aurum1.input\n",
      "output file: /Users/qahtanaa/Documents/WorkFlow/CivilizerWorkspace/XYZ_Aurum1.output\n",
      "input sources: \n",
      "==================================\n"
     ]
    }
   ],
   "source": [
    "for e in Proj.nodes_details:\n",
    "    e.printNode()"
   ]
  },
  {
   "cell_type": "code",
   "execution_count": null,
   "metadata": {
    "collapsed": false,
    "deletable": true,
    "editable": true
   },
   "outputs": [],
   "source": [
    "Proj.addNodeInput('Aurum1', 'ttt.txt')\n",
    "for e in Proj.nodes_details:\n",
    "    e.printNode()"
   ]
  },
  {
   "cell_type": "code",
   "execution_count": null,
   "metadata": {
    "collapsed": false,
    "deletable": true,
    "editable": true
   },
   "outputs": [],
   "source": [
    "Proj.printProject()\n",
    "Proj.deleteNode('Aurum1')\n",
    "print()\n",
    "Proj.printProject()"
   ]
  },
  {
   "cell_type": "code",
   "execution_count": null,
   "metadata": {
    "collapsed": false,
    "deletable": true,
    "editable": true
   },
   "outputs": [],
   "source": [
    "print(\"Before deletion :\", len(Proj.nodes_details))\n",
    "for n in Proj.nodes_details:\n",
    "    Proj.nodes_details.remove(n)\n",
    "    break;\n",
    "print(\"After deletion :\", len(Proj.nodes_details))"
   ]
  },
  {
   "cell_type": "code",
   "execution_count": null,
   "metadata": {
    "collapsed": false,
    "deletable": true,
    "editable": true
   },
   "outputs": [],
   "source": [
    "print(len(Proj.nodes_details))\n",
    "for e in Proj.wg.get_edges():\n",
    "    print(e.get_source(), '->', e.get_destination())\n"
   ]
  },
  {
   "cell_type": "code",
   "execution_count": null,
   "metadata": {
    "collapsed": false,
    "deletable": true,
    "editable": true,
    "scrolled": true
   },
   "outputs": [],
   "source": [
    "Proj.closeProject()"
   ]
  },
  {
   "cell_type": "code",
   "execution_count": null,
   "metadata": {
    "collapsed": false,
    "deletable": true,
    "editable": true
   },
   "outputs": [],
   "source": [
    "print(len(Proj.nodes_details))\n",
    "Proj.addNode('Aurum1')\n",
    "print(len(Proj.nodes_details))"
   ]
  },
  {
   "cell_type": "code",
   "execution_count": null,
   "metadata": {
    "collapsed": false,
    "deletable": true,
    "editable": true
   },
   "outputs": [],
   "source": [
    "Proj.printProject()"
   ]
  },
  {
   "cell_type": "code",
   "execution_count": null,
   "metadata": {
    "collapsed": false,
    "deletable": true,
    "editable": true
   },
   "outputs": [],
   "source": [
    "Proj.deleteProject('XYZ')"
   ]
  },
  {
   "cell_type": "code",
   "execution_count": null,
   "metadata": {
    "collapsed": false,
    "deletable": true,
    "editable": true
   },
   "outputs": [],
   "source": [
    "# We want to add a new function (under a service), specified by the user\n",
    "# wg = createNode(wg, node_b, \"GoldenRecord1\")\n",
    "# viewPydot(wg)\n",
    "\n",
    "# gr = GoldenRecord\n",
    "# gr.excute(\"goldrecord\")"
   ]
  },
  {
   "cell_type": "code",
   "execution_count": null,
   "metadata": {
    "collapsed": true,
    "deletable": true,
    "editable": true
   },
   "outputs": [],
   "source": []
  }
 ],
 "metadata": {
  "kernelspec": {
   "display_name": "Python 3",
   "language": "python",
   "name": "python3"
  },
  "language_info": {
   "codemirror_mode": {
    "name": "ipython",
    "version": 3
   },
   "file_extension": ".py",
   "mimetype": "text/x-python",
   "name": "python",
   "nbconvert_exporter": "python",
   "pygments_lexer": "ipython3",
   "version": "3.5.2"
  }
 },
 "nbformat": 4,
 "nbformat_minor": 2
}
