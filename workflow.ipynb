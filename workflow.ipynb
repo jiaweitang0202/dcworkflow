{
 "cells": [
  {
   "cell_type": "code",
   "execution_count": 20,
   "metadata": {
    "collapsed": false,
    "deletable": true,
    "editable": true
   },
   "outputs": [],
   "source": [
    "from projects import *\n",
    "from services import GoldenRecord"
   ]
  },
  {
   "cell_type": "code",
   "execution_count": 35,
   "metadata": {
    "collapsed": false,
    "deletable": true,
    "editable": true
   },
   "outputs": [
    {
     "name": "stdout",
     "output_type": "stream",
     "text": [
      "New project created successfully\n",
      "\n"
     ]
    }
   ],
   "source": [
    "# First, let's create a new project\n",
    "Proj = Project()\n",
    "Proj.newProject('XYZ')"
   ]
  },
  {
   "cell_type": "code",
   "execution_count": 36,
   "metadata": {
    "collapsed": false,
    "deletable": true,
    "editable": true
   },
   "outputs": [
    {
     "name": "stdout",
     "output_type": "stream",
     "text": [
      "save the current project to: ../CivilizerWorkspace/XYZ/XYZ.dot\n",
      "\n"
     ]
    }
   ],
   "source": [
    "Proj.addNode('Aurum1')\n",
    "Proj.addNode('Tamr1')\n",
    "Proj.addNode('Tamr2')\n",
    "Proj.addEdge('Aurum1', 'Tamr2')\n",
    "Proj.addEdge('Aurum1', 'Tamr1')\n",
    "Proj.saveProject()"
   ]
  },
  {
   "cell_type": "code",
   "execution_count": 37,
   "metadata": {
    "collapsed": false,
    "deletable": true,
    "editable": true
   },
   "outputs": [
    {
     "name": "stdout",
     "output_type": "stream",
     "text": [
      "load an existing project from: ../CivilizerWorkspace/XYZ/XYZ.dot\n",
      "\n"
     ]
    }
   ],
   "source": [
    "# We can laod the workflow graph from a file\n",
    "Proj.loadProject('XYZ')"
   ]
  },
  {
   "cell_type": "code",
   "execution_count": 38,
   "metadata": {
    "collapsed": false,
    "deletable": true,
    "editable": true
   },
   "outputs": [
    {
     "name": "stdout",
     "output_type": "stream",
     "text": [
      "digraph G {\n",
      "type=digraph;\n",
      "Aurum1;\n",
      "Tamr1;\n",
      "Tamr2;\n",
      "Aurum1 -> Tamr2;\n",
      "Aurum1 -> Tamr1;\n",
      "}\n",
      "\n"
     ]
    }
   ],
   "source": [
    "# We can see the current workflow\n",
    "# print(Proj.wg.source)\n",
    "Proj.printProject()"
   ]
  },
  {
   "cell_type": "code",
   "execution_count": 41,
   "metadata": {
    "collapsed": false,
    "deletable": true,
    "editable": true
   },
   "outputs": [
    {
     "name": "stdout",
     "output_type": "stream",
     "text": [
      "Name: Aurum1\n",
      "input file: /Users/qahtanaa/Documents/WorkFlow/CivilizerWorkspace/XYZ_Aurum1.input\n",
      "output file: /Users/qahtanaa/Documents/WorkFlow/CivilizerWorkspace/XYZ_Aurum1.output\n",
      "input sources: /Users/qahtanaa/Documents/WorkFlow/dcworkflow/ttt.txt;\n",
      "==================================\n",
      "Name: Tamr1\n",
      "input file: /Users/qahtanaa/Documents/WorkFlow/CivilizerWorkspace/XYZ_Tamr1.input\n",
      "output file: /Users/qahtanaa/Documents/WorkFlow/CivilizerWorkspace/XYZ_Tamr1.output\n",
      "input sources: /Users/qahtanaa/Documents/WorkFlow/CivilizerWorkspace/XYZ_Aurum1.output;\n",
      "==================================\n",
      "Name: Tamr2\n",
      "input file: /Users/qahtanaa/Documents/WorkFlow/CivilizerWorkspace/XYZ_Tamr2.input\n",
      "output file: /Users/qahtanaa/Documents/WorkFlow/CivilizerWorkspace/XYZ_Tamr2.output\n",
      "input sources: /Users/qahtanaa/Documents/WorkFlow/CivilizerWorkspace/XYZ_Aurum1.output;\n",
      "==================================\n"
     ]
    }
   ],
   "source": [
    "for e in Proj.nodes_details:\n",
    "    e.printNode()"
   ]
  },
  {
   "cell_type": "code",
   "execution_count": 40,
   "metadata": {
    "collapsed": false,
    "deletable": true,
    "editable": true
   },
   "outputs": [],
   "source": [
    "Proj.addNodeInput('Aurum1', 'ttt.txt')\n",
    "for e in Proj.nodes_details:\n",
    "    e.printNode()"
   ]
  },
  {
   "cell_type": "code",
   "execution_count": 27,
   "metadata": {
    "collapsed": false,
    "deletable": true,
    "editable": true
   },
   "outputs": [
    {
     "name": "stdout",
     "output_type": "stream",
     "text": [
      "digraph G {\n",
      "type=digraph;\n",
      "Aurum1;\n",
      "Tamr1;\n",
      "Tamr2;\n",
      "Aurum1 -> Tamr2;\n",
      "Aurum1 -> Tamr1;\n",
      "}\n",
      "\n",
      "Node ( Aurum1 ) was deleted successfully .. \n",
      "\n",
      "digraph G {\n",
      "type=digraph;\n",
      "Tamr1;\n",
      "Tamr2;\n",
      "}\n",
      "\n"
     ]
    }
   ],
   "source": [
    "Proj.printProject()\n",
    "Proj.deleteNode('Aurum1')\n",
    "print()\n",
    "Proj.printProject()"
   ]
  },
  {
   "cell_type": "code",
   "execution_count": 28,
   "metadata": {
    "collapsed": false,
    "deletable": true,
    "editable": true
   },
   "outputs": [
    {
     "name": "stdout",
     "output_type": "stream",
     "text": [
      "Before deletion : 2\n",
      "After deletion : 1\n"
     ]
    }
   ],
   "source": [
    "print(\"Before deletion :\", len(Proj.nodes_details))\n",
    "for n in Proj.nodes_details:\n",
    "    Proj.nodes_details.remove(n)\n",
    "    break;\n",
    "print(\"After deletion :\", len(Proj.nodes_details))"
   ]
  },
  {
   "cell_type": "code",
   "execution_count": 29,
   "metadata": {
    "collapsed": false,
    "deletable": true,
    "editable": true
   },
   "outputs": [
    {
     "name": "stdout",
     "output_type": "stream",
     "text": [
      "1\n"
     ]
    }
   ],
   "source": [
    "print(len(Proj.nodes_details))\n",
    "for e in Proj.wg.get_edges():\n",
    "    print(e.get_source(), '->', e.get_destination())\n"
   ]
  },
  {
   "cell_type": "code",
   "execution_count": 30,
   "metadata": {
    "collapsed": false,
    "deletable": true,
    "editable": true,
    "scrolled": true
   },
   "outputs": [
    {
     "name": "stdout",
     "output_type": "stream",
     "text": [
      "close the current project\n"
     ]
    }
   ],
   "source": [
    "Proj.closeProject()"
   ]
  },
  {
   "cell_type": "code",
   "execution_count": 31,
   "metadata": {
    "collapsed": false,
    "deletable": true,
    "editable": true
   },
   "outputs": [
    {
     "name": "stdout",
     "output_type": "stream",
     "text": [
      "0\n",
      "Error: Node cannot be added .. project is not available or it has been closed .. \n",
      "0\n"
     ]
    }
   ],
   "source": [
    "print(len(Proj.nodes_details))\n",
    "Proj.addNode('Aurum1')\n",
    "print(len(Proj.nodes_details))"
   ]
  },
  {
   "cell_type": "code",
   "execution_count": 32,
   "metadata": {
    "collapsed": false,
    "deletable": true,
    "editable": true
   },
   "outputs": [
    {
     "name": "stdout",
     "output_type": "stream",
     "text": [
      "Error: either the project is empty or it has been closed ...\n"
     ]
    }
   ],
   "source": [
    "Proj.printProject()"
   ]
  },
  {
   "cell_type": "code",
   "execution_count": 33,
   "metadata": {
    "collapsed": false,
    "deletable": true,
    "editable": true
   },
   "outputs": [
    {
     "name": "stdout",
     "output_type": "stream",
     "text": [
      "Project (  XYZ ) has been deleted successfully .. \n"
     ]
    }
   ],
   "source": [
    "Proj.deleteProject('XYZ')"
   ]
  },
  {
   "cell_type": "code",
   "execution_count": 34,
   "metadata": {
    "collapsed": false,
    "deletable": true,
    "editable": true
   },
   "outputs": [],
   "source": [
    "# We want to add a new function (under a service), specified by the user\n",
    "# wg = createNode(wg, node_b, \"GoldenRecord1\")\n",
    "# viewPydot(wg)\n",
    "\n",
    "# gr = GoldenRecord\n",
    "# gr.excute(\"goldrecord\")"
   ]
  },
  {
   "cell_type": "code",
   "execution_count": null,
   "metadata": {
    "collapsed": true,
    "deletable": true,
    "editable": true
   },
   "outputs": [],
   "source": []
  }
 ],
 "metadata": {
  "kernelspec": {
   "display_name": "Python 3",
   "language": "python",
   "name": "python3"
  },
  "language_info": {
   "codemirror_mode": {
    "name": "ipython",
    "version": 3
   },
   "file_extension": ".py",
   "mimetype": "text/x-python",
   "name": "python",
   "nbconvert_exporter": "python",
   "pygments_lexer": "ipython3",
   "version": "3.5.2"
  }
 },
 "nbformat": 4,
 "nbformat_minor": 2
}
