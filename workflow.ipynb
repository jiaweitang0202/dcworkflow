{
 "cells": [
  {
   "cell_type": "code",
   "execution_count": 1,
   "metadata": {
    "collapsed": false,
    "deletable": true,
    "editable": true
   },
   "outputs": [],
   "source": [
    "from projects import *\n",
    "from services import GoldenRecord"
   ]
  },
  {
   "cell_type": "code",
   "execution_count": 2,
   "metadata": {
    "collapsed": false,
    "deletable": true,
    "editable": true
   },
   "outputs": [
    {
     "name": "stdout",
     "output_type": "stream",
     "text": [
      "New project created successfully\n",
      "\n"
     ]
    }
   ],
   "source": [
    "# First, let's create a new project\n",
    "Proj = Project()\n",
    "Proj.newProject('XYZ')"
   ]
  },
  {
   "cell_type": "code",
   "execution_count": 3,
   "metadata": {
    "collapsed": true,
    "deletable": true,
    "editable": true
   },
   "outputs": [],
   "source": [
    "from graphviz import *"
   ]
  },
  {
   "cell_type": "code",
   "execution_count": 4,
   "metadata": {
    "collapsed": false,
    "deletable": true,
    "editable": true
   },
   "outputs": [
    {
     "name": "stdout",
     "output_type": "stream",
     "text": [
      "save the current project to: ../Workspace/XYZ/XYZ.dot\n",
      "\n"
     ]
    }
   ],
   "source": [
    "# Let's assume that we already have operations to add nodes and edges\n",
    "node_a = pydot.Node(\"Aurum1\")\n",
    "node_b = pydot.Node(\"Tamr1\")\n",
    "Proj.wg.add_node(node_a)\n",
    "Proj.wg.add_node(node_b)\n",
    "Proj.wg.add_edge(pydot.Edge(node_a, node_b))\n",
    "Proj.saveProject()\n",
    "# viewPydot(Proj.wg)"
   ]
  },
  {
   "cell_type": "code",
   "execution_count": 5,
   "metadata": {
    "collapsed": false,
    "deletable": true,
    "editable": true
   },
   "outputs": [
    {
     "name": "stdout",
     "output_type": "stream",
     "text": [
      "load an existing project from: ../Workspace/XYZ/XYZ.dot\n",
      "\n"
     ]
    }
   ],
   "source": [
    "# We can laod the workflow graph from a file\n",
    "Proj.loadProject('XYZ')"
   ]
  },
  {
   "cell_type": "code",
   "execution_count": 6,
   "metadata": {
    "collapsed": false,
    "deletable": true,
    "editable": true
   },
   "outputs": [
    {
     "name": "stdout",
     "output_type": "stream",
     "text": [
      "digraph G {\n",
      "type=diagraph;\n",
      "Aurum1;\n",
      "Tamr1;\n",
      "Aurum1 -> Tamr1;\n",
      "}\n",
      "\n"
     ]
    }
   ],
   "source": [
    "# We can see the current workflow\n",
    "# print(Proj.wg.source)\n",
    "Proj.printProject()"
   ]
  },
  {
   "cell_type": "code",
   "execution_count": 7,
   "metadata": {
    "collapsed": false,
    "deletable": true,
    "editable": true
   },
   "outputs": [
    {
     "name": "stdout",
     "output_type": "stream",
     "text": [
      "close the current project\n"
     ]
    }
   ],
   "source": [
    "Proj.closeProject()"
   ]
  },
  {
   "cell_type": "code",
   "execution_count": 8,
   "metadata": {
    "collapsed": false,
    "deletable": true,
    "editable": true
   },
   "outputs": [
    {
     "name": "stdout",
     "output_type": "stream",
     "text": [
      "Empty Project ...\n"
     ]
    }
   ],
   "source": [
    "Proj.printProject()"
   ]
  },
  {
   "cell_type": "code",
   "execution_count": 9,
   "metadata": {
    "collapsed": false,
    "deletable": true,
    "editable": true
   },
   "outputs": [
    {
     "name": "stdout",
     "output_type": "stream",
     "text": [
      "Project (  XYZ ) has been deleted successfully .. \n"
     ]
    }
   ],
   "source": [
    "Proj.deleteProject('XYZ')"
   ]
  },
  {
   "cell_type": "code",
   "execution_count": 10,
   "metadata": {
    "collapsed": false,
    "deletable": true,
    "editable": true
   },
   "outputs": [],
   "source": [
    "# We want to add a new function (under a service), specified by the user\n",
    "# wg = createNode(wg, node_b, \"GoldenRecord1\")\n",
    "# viewPydot(wg)\n",
    "\n",
    "# gr = GoldenRecord\n",
    "# gr.excute(\"goldrecord\")"
   ]
  },
  {
   "cell_type": "code",
   "execution_count": null,
   "metadata": {
    "collapsed": true,
    "deletable": true,
    "editable": true
   },
   "outputs": [],
   "source": []
  }
 ],
 "metadata": {
  "kernelspec": {
   "display_name": "Python 3",
   "language": "python",
   "name": "python3"
  },
  "language_info": {
   "codemirror_mode": {
    "name": "ipython",
    "version": 3
   },
   "file_extension": ".py",
   "mimetype": "text/x-python",
   "name": "python",
   "nbconvert_exporter": "python",
   "pygments_lexer": "ipython3",
   "version": "3.5.2"
  }
 },
 "nbformat": 4,
 "nbformat_minor": 2
}
