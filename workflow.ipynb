{
 "cells": [
  {
   "cell_type": "code",
   "execution_count": null,
   "metadata": {
    "collapsed": true
   },
   "outputs": [],
   "source": [
    "from projects import *\n",
    "from services import GoldenRecord"
   ]
  },
  {
   "cell_type": "code",
   "execution_count": null,
   "metadata": {
    "collapsed": true
   },
   "outputs": [],
   "source": [
    "# First, let's create a new project\n",
    "Proj = Project()\n",
    "Proj.newProject('XYZ')"
   ]
  },
  {
   "cell_type": "code",
   "execution_count": null,
   "metadata": {
    "collapsed": true
   },
   "outputs": [],
   "source": [
    "Proj.addNode('Aurum1', 'Aurum')\n",
    "Proj.addNode('Tamr1', 'Tamr')\n",
    "Proj.addNode('Transform1', 'DBXFormer')\n",
    "Proj.addNode('Transform2', 'GoldenRecord')\n",
    "Proj.addEdge('Aurum1', 'Tamr1')\n",
    "Proj.addEdge('Aurum1', 'Transform2')\n",
    "Proj.addEdge('Transform1', 'Transform2')\n",
    "Proj.saveProject()"
   ]
  },
  {
   "cell_type": "code",
   "execution_count": null,
   "metadata": {
    "collapsed": true
   },
   "outputs": [],
   "source": [
    "Proj.executeNode('Aurum1')\n",
    "Proj.executeNode('Transform1')"
   ]
  },
  {
   "cell_type": "code",
   "execution_count": null,
   "metadata": {
    "collapsed": true
   },
   "outputs": [],
   "source": [
    "Proj.closeProject()"
   ]
  },
  {
   "cell_type": "code",
   "execution_count": null,
   "metadata": {
    "collapsed": true
   },
   "outputs": [],
   "source": [
    "# We can laod the workflow graph from a file\n",
    "Proj.loadProject('XYZ')"
   ]
  },
  {
   "cell_type": "code",
   "execution_count": null,
   "metadata": {
    "collapsed": true
   },
   "outputs": [],
   "source": [
    "# We can see the current workflow\n",
    "# print(Proj.wg.source)\n",
    "Proj.printProject()"
   ]
  },
  {
   "cell_type": "code",
   "execution_count": null,
   "metadata": {
    "collapsed": true
   },
   "outputs": [],
   "source": [
    "for e in Proj.nodes_details:\n",
    "    e.printNode()"
   ]
  },
  {
   "cell_type": "code",
   "execution_count": null,
   "metadata": {
    "collapsed": true
   },
   "outputs": [],
   "source": [
    "Proj.addNodeInput('Aurum1', 'ttt.txt')\n",
    "for e in Proj.nodes_details:\n",
    "    e.printNode()"
   ]
  },
  {
   "cell_type": "code",
   "execution_count": null,
   "metadata": {
    "collapsed": true
   },
   "outputs": [],
   "source": [
    "Proj.printProject()\n",
    "Proj.deleteNode('Aurum1')\n",
    "print()\n",
    "Proj.printProject()"
   ]
  },
  {
   "cell_type": "code",
   "execution_count": null,
   "metadata": {
    "collapsed": true
   },
   "outputs": [],
   "source": [
    "print(\"Before deletion :\", len(Proj.nodes_details))\n",
    "for n in Proj.nodes_details:\n",
    "    Proj.nodes_details.remove(n)\n",
    "    break;\n",
    "print(\"After deletion :\", len(Proj.nodes_details))"
   ]
  },
  {
   "cell_type": "code",
   "execution_count": null,
   "metadata": {
    "collapsed": true
   },
   "outputs": [],
   "source": [
    "print(len(Proj.nodes_details))\n",
    "for e in Proj.wg.get_edges():\n",
    "    print(e.get_source(), '->', e.get_destination())\n"
   ]
  },
  {
   "cell_type": "code",
   "execution_count": null,
   "metadata": {
    "collapsed": true,
    "scrolled": true
   },
   "outputs": [],
   "source": [
    "Proj.closeProject()"
   ]
  },
  {
   "cell_type": "code",
   "execution_count": null,
   "metadata": {
    "collapsed": true
   },
   "outputs": [],
   "source": [
    "print(len(Proj.nodes_details))\n",
    "Proj.addNode('Aurum1', 'Aurum')\n",
    "print(len(Proj.nodes_details))"
   ]
  },
  {
   "cell_type": "code",
   "execution_count": null,
   "metadata": {
    "collapsed": true
   },
   "outputs": [],
   "source": [
    "Proj.printProject()"
   ]
  },
  {
   "cell_type": "code",
   "execution_count": null,
   "metadata": {
    "collapsed": true
   },
   "outputs": [],
   "source": [
    "Proj.deleteProject('XYZ')"
   ]
  },
  {
   "cell_type": "code",
   "execution_count": null,
   "metadata": {
    "collapsed": true
   },
   "outputs": [],
   "source": [
    "# We want to add a new function (under a service), specified by the user\n",
    "# wg = createNode(wg, node_b, \"GoldenRecord1\")\n",
    "# viewPydot(wg)\n",
    "\n",
    "# gr = GoldenRecord\n",
    "# gr.excute(\"goldrecord\")"
   ]
  },
  {
   "cell_type": "code",
   "execution_count": 1,
   "metadata": {},
   "outputs": [
    {
     "name": "stdout",
     "output_type": "stream",
     "text": [
      "SELECT TABLE_NAME FROM INFORMATION_SCHEMA.TABLES WHERE TABLE_TYPE = 'BASE TABLE'\n",
      "activity_stds_lookup\n",
      "assay_parameters\n",
      "atc_classification\n",
      "component_domains\n",
      "component_sequences\n",
      "biotherapeutics\n",
      "component_class\n",
      "compound_properties\n",
      "component_go\n",
      "action_type\n",
      "chembl_id_lookup\n",
      "assay_type\n",
      "compound_records\n",
      "bioassay_ontology\n",
      "bio_component_sequences\n",
      "binding_sites\n",
      "cell_dictionary\n",
      "component_synonyms\n",
      "curation_lookup\n",
      "confidence_score_lookup\n",
      "compound_structures\n",
      "compound_structural_alerts\n",
      "defined_daily_dose\n",
      "domains\n",
      "ligand_eff\n",
      "formulations\n",
      "molecule_frac_classification\n",
      "drug_mechanism\n",
      "metabolism\n",
      "irac_classification\n",
      "frac_classification\n",
      "molecule_atc_classification\n",
      "metabolism_refs\n",
      "molecule_hierarchy\n",
      "go_classification\n",
      "drug_indication\n",
      "hrac_classification\n",
      "organism_class\n",
      "predicted_binding_domains\n",
      "patent_use_codes\n",
      "molecule_irac_classification\n",
      "molecule_synonyms\n",
      "research_stem\n",
      "site_components\n",
      "protein_family_classification\n",
      "structural_alert_sets\n",
      "source\n",
      "target_type\n",
      "target_components\n",
      "target_relations\n",
      "usan_stems\n",
      "tissue_dictionary\n",
      "variant_sequences\n",
      "protein_classification\n",
      "structural_alerts\n",
      "version\n",
      "indication_refs\n",
      "product_patents\n",
      "data_validity_lookup\n",
      "assays\n",
      "mechanism_refs\n",
      "protein_class_synonyms\n",
      "biotherapeutic_components\n",
      "research_companies\n",
      "parameter_type\n",
      "molecule_dictionary\n",
      "molecule_hrac_classification\n",
      "target_dictionary\n",
      "docs\n",
      "relationship_type\n",
      "activities\n",
      "products\n"
     ]
    }
   ],
   "source": [
    "from projects import *\n",
    "from services import GoldenRecord\n",
    "read_DB('postgres', 'chembl_22', 'localhost', '5433', 'postgres', 'postgres')"
   ]
  },
  {
   "cell_type": "code",
   "execution_count": null,
   "metadata": {
    "collapsed": true
   },
   "outputs": [],
   "source": []
  }
 ],
 "metadata": {
  "kernelspec": {
   "display_name": "Python 3",
   "language": "python",
   "name": "python3"
  },
  "language_info": {
   "codemirror_mode": {
    "name": "ipython",
    "version": 3
   },
   "file_extension": ".py",
   "mimetype": "text/x-python",
   "name": "python",
   "nbconvert_exporter": "python",
   "pygments_lexer": "ipython3",
   "version": "3.6.1"
  }
 },
 "nbformat": 4,
 "nbformat_minor": 2
}
